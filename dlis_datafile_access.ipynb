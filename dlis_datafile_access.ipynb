{
 "cells": [
  {
   "cell_type": "code",
   "execution_count": 1,
   "id": "3e4fddae",
   "metadata": {},
   "outputs": [],
   "source": [
    "from dlisio import dlis\n",
    "import pandas as pd\n",
    "import numpy as np\n",
    "\n",
    "def process_curve_info(channel_data):\n",
    "    def df_column_uniquify(df):\n",
    "        df_columns = df.columns\n",
    "        new_columns = []\n",
    "        print('AQUI')\n",
    "        for item in df_columns:\n",
    "            counter = 0\n",
    "            newitem = item\n",
    "            while newitem in new_columns:\n",
    "                counter += 1\n",
    "                newitem = \"{}_{}\".format(item, counter)\n",
    "            new_columns.append(newitem)\n",
    "        df.columns = new_columns\n",
    "        return df\n",
    "\n",
    "def dlis_access(filepath, depth_track = 0, logical_file = 0, null=-999.25):\n",
    "    with dlis.load(filepath) as files:\n",
    "        frame_all = {} # dicionario vazio (armazenar os logical files)\n",
    "        ii = 0 # indexador (nome de acesso) dos logical files\n",
    "        for f in files:\n",
    "            for frame in f.frames:\n",
    "                curves = frame.curves()\n",
    "\n",
    "                channel_data = {\n",
    "                        \"curves_name\": [],\n",
    "                        \"longs\": [],\n",
    "                        \"unit\": [],\n",
    "                        \"curves_L\": [],\n",
    "                        \"las_units\": [],\n",
    "                        \"las_longs\": [],\n",
    "                    }\n",
    "\n",
    "                for channel in frame.channels:\n",
    "                    channel_data[\"curves_name\"].append(channel.name)\n",
    "                    channel_data[\"longs\"].append(channel.long_name)\n",
    "                    channel_data[\"unit\"].append(channel.units)\n",
    "                    curves = channel.curves()\n",
    "                    channel_data[\"curves_L\"].append(curves)\n",
    "                    \n",
    "                print(channel_data[\"curves_name\"])\n",
    "                print(channel_data[\"curves_L\"][depth_track])\n",
    "                print()\n",
    "                \n",
    "                A = process_curve_info(channel_data)\n",
    "                \n",
    "                DATA = {}\n",
    "                for i in range(len(A['curves_name'])):\n",
    "                    DATA[A['curves_name'][i]] = {}\n",
    "                    DATA[A['curves_name'][i]]['curve'] = A['curves_L'][i]\n",
    "                    DATA[A['curves_name'][i]]['unit'] = A['unit'][i]\n",
    "\n",
    "                frame_all[ii] = DATA\n",
    "            ii += 1\n",
    "            \n",
    "    return frame_all[logical_file]"
   ]
  },
  {
   "cell_type": "code",
   "execution_count": 2,
   "id": "83968ffd",
   "metadata": {},
   "outputs": [
    {
     "name": "stdout",
     "output_type": "stream",
     "text": [
      "['TDEP', 'ROSI']\n",
      "[  8.93064    8.961121   8.9916   ... 358.47516  358.5056   358.5361  ]\n",
      "\n"
     ]
    },
    {
     "ename": "NameError",
     "evalue": "name 'process_curve_info' is not defined",
     "output_type": "error",
     "traceback": [
      "\u001b[1;31m---------------------------------------------------------------------------\u001b[0m",
      "\u001b[1;31mNameError\u001b[0m                                 Traceback (most recent call last)",
      "Cell \u001b[1;32mIn[2], line 1\u001b[0m\n\u001b[1;32m----> 1\u001b[0m DATA \u001b[38;5;241m=\u001b[39m \u001b[43mdlis_access\u001b[49m\u001b[43m(\u001b[49m\n\u001b[0;32m      2\u001b[0m \u001b[43m    \u001b[49m\u001b[38;5;124;43mr\u001b[39;49m\u001b[38;5;124;43m'\u001b[39;49m\u001b[38;5;124;43mdata\u001b[39;49m\u001b[38;5;124;43m\\\u001b[39;49m\u001b[38;5;124;43mIODP_311-U1325A_lwd-images-proc.dlis\u001b[39;49m\u001b[38;5;124;43m'\u001b[39;49m\u001b[43m,\u001b[49m\n\u001b[0;32m      3\u001b[0m \u001b[43m    \u001b[49m\u001b[43mlogical_file\u001b[49m\u001b[43m \u001b[49m\u001b[38;5;241;43m=\u001b[39;49m\u001b[43m \u001b[49m\u001b[38;5;241;43m1\u001b[39;49m\u001b[43m,\u001b[49m\u001b[43m \u001b[49m\u001b[43mnull\u001b[49m\u001b[38;5;241;43m=\u001b[39;49m\u001b[38;5;241;43m-\u001b[39;49m\u001b[38;5;241;43m888\u001b[39;49m\u001b[43m)\u001b[49m \u001b[38;5;66;03m# , null=-999.25\u001b[39;00m\n",
      "Cell \u001b[1;32mIn[1], line 33\u001b[0m, in \u001b[0;36mdlis_access\u001b[1;34m(filepath, depth_track, logical_file, null)\u001b[0m\n\u001b[0;32m     30\u001b[0m \u001b[38;5;28mprint\u001b[39m(channel_data[\u001b[38;5;124m\"\u001b[39m\u001b[38;5;124mcurves_L\u001b[39m\u001b[38;5;124m\"\u001b[39m][depth_track])\n\u001b[0;32m     31\u001b[0m \u001b[38;5;28mprint\u001b[39m()\n\u001b[1;32m---> 33\u001b[0m A \u001b[38;5;241m=\u001b[39m \u001b[43mprocess_curve_info\u001b[49m(channel_data)\n\u001b[0;32m     35\u001b[0m DATA \u001b[38;5;241m=\u001b[39m {}\n\u001b[0;32m     36\u001b[0m \u001b[38;5;28;01mfor\u001b[39;00m i \u001b[38;5;129;01min\u001b[39;00m \u001b[38;5;28mrange\u001b[39m(\u001b[38;5;28mlen\u001b[39m(A[\u001b[38;5;124m'\u001b[39m\u001b[38;5;124mcurves_name\u001b[39m\u001b[38;5;124m'\u001b[39m])):\n",
      "\u001b[1;31mNameError\u001b[0m: name 'process_curve_info' is not defined"
     ]
    }
   ],
   "source": [
    "DATA = dlis_access(\n",
    "    r'data\\IODP_311-U1325A_lwd-images-proc.dlis',\n",
    "    logical_file = 1, null=-888) # , null=-999.25"
   ]
  },
  {
   "cell_type": "code",
   "execution_count": 44,
   "id": "87efeb08",
   "metadata": {},
   "outputs": [],
   "source": [
    "#tosave = ['TDEP', 'BS', 'CS', 'MINM', 'TENS', 'DLIM', 'DPHD', 'DPHI', 'DPHS', 'DRHO', 'PE', 'RHOB', 'AHV', 'AHVT', 'BHV', 'BHVT', 'CALI', 'DCAL', 'GR', 'FDSN', 'NDSN', 'NLIM', 'NPHD', 'NPHI', 'NPHS', 'NRAT', 'TEM2', 'FBA', 'FDE', 'FHI', 'FLI', 'FLO', 'FPK', 'NBA', 'NDE', 'NHI', 'NLI', 'NLO', 'NPK', 'RT90', 'RT60', 'RT30', 'RT20', 'RT10', 'RT06', 'DT', 'ITT']\n",
    "tosave = ['TDEP', 'BS', 'RHOB', 'GR','RT90','DT']\n",
    "\n",
    "\n",
    "all_data = []\n",
    "for m in tosave:  \n",
    "    column = [m] + [DATA[m]['unit']] + list(DATA[m]['curve'])\n",
    "    all_data.append(column)\n",
    "    \n",
    "\n",
    "DF = pd.DataFrame(all_data).T\n",
    "new_header = DF.iloc[0]\n",
    "DF = DF[1:]\n",
    "DF.columns = new_header\n",
    "DF.to_csv(\"C:\\\\Users\\\\isabela\\\\Desktop\\\\1-BRSA-1007-RJS\\\\Perfis_Digitais\\\\LAS\\\\1-brsa-1007-rjs_8_quad.csv\", index=False)"
   ]
  },
  {
   "cell_type": "code",
   "execution_count": null,
   "id": "bc2697db",
   "metadata": {},
   "outputs": [],
   "source": []
  }
 ],
 "metadata": {
  "kernelspec": {
   "display_name": "Python 3 (ipykernel)",
   "language": "python",
   "name": "python3"
  },
  "language_info": {
   "codemirror_mode": {
    "name": "ipython",
    "version": 3
   },
   "file_extension": ".py",
   "mimetype": "text/x-python",
   "name": "python",
   "nbconvert_exporter": "python",
   "pygments_lexer": "ipython3",
   "version": "3.8.8"
  }
 },
 "nbformat": 4,
 "nbformat_minor": 5
}
